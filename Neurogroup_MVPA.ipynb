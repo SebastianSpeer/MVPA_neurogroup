{
 "cells": [
  {
   "cell_type": "code",
   "execution_count": 2,
   "metadata": {},
   "outputs": [],
   "source": [
    "import matplotlib.pyplot as plt\n",
    "from atlasreader import create_output\n",
    "import os\n",
    "from os.path import join as opj\n",
    "import itertools\n",
    "from glob import glob\n",
    "import pandas as pd \n",
    "from scipy.stats import pearsonr\n",
    "import numpy as np\n",
    "import matplotlib.pyplot as plt\n",
    "import seaborn as sns\n",
    "from scipy.stats import pearsonr,sem\n",
    "import matplotlib.patches as mpatches\n",
    "import statsmodels.formula.api as smf\n",
    "from statsmodels.stats.multitest import multipletests\n",
    "from scipy.stats import ttest_ind, ttest_1samp\n",
    "%matplotlib inline\n",
    "import numpy as np\n",
    "from scipy.stats import pearsonr,sem,ttest_rel\n",
    "import os.path as op\n",
    "from sklearn.model_selection import StratifiedKFold\n",
    "import nipype_init_new\n",
    "nipype_init_new.init()\n",
    "from skbold.core import MvpWithin, convert2mni, convert2epi\n",
    "from sklearn.preprocessing import StandardScaler\n",
    "from sklearn.pipeline import Pipeline\n",
    "from sklearn.feature_selection import f_classif, SelectKBest\n",
    "from sklearn.svm import SVC\n",
    "from sklearn.dummy import DummyClassifier\n",
    "from sklearn.metrics import accuracy_score, f1_score,roc_auc_score\n",
    "from nilearn.image import load_img, concat_imgs, index_img, smooth_img, resample_to_img, smooth_img, mean_img, new_img_like\n",
    "from nilearn.plotting import plot_stat_map, plot_anat, plot_img, view_img\n",
    "from nilearn.decoding import SearchLight\n",
    "#import mvpa2.suite as mvpa2\n"
   ]
  },
  {
   "cell_type": "code",
   "execution_count": 3,
   "metadata": {},
   "outputs": [],
   "source": [
    "def show_cluster(data,ds,options=\"\"):\n",
    "    result_file = mvpa2.map2nifti(ds,data=data)\n",
    "    result_file.to_filename('temp_result.nii.gz')\n",
    "\n",
    "    !{'cluster --in=temp_result.nii.gz --mm ' + options}  "
   ]
  },
  {
   "cell_type": "code",
   "execution_count": 4,
   "metadata": {},
   "outputs": [],
   "source": [
    "def ensure_dir(ed):\n",
    "    try: \n",
    "        os.makedirs(ed)\n",
    "    except OSError:\n",
    "        if not os.path.isdir(ed):\n",
    "            raise"
   ]
  },
  {
   "cell_type": "code",
   "execution_count": 5,
   "metadata": {},
   "outputs": [],
   "source": [
    "def partial_corr(iv,dv,covariate):\n",
    "    import scipy as sp\n",
    "    import numpy as np\n",
    "    # add intercept to covariate\n",
    "    regress = np.vstack([covariate,np.ones(len(covariate))]).T\n",
    "\n",
    "    #perform a normal linear least-squares regression with X as the target and Z as the predictor\n",
    "    iv_regress, residuals, rank, s = np.linalg.lstsq(regress,iv)\n",
    "\n",
    "    #calculate the residuals in Step #1\n",
    "    iv -= regress.dot(iv_regress)\n",
    "\n",
    "    #perform a normal linear least-squares regression with Y as the target and Z as the predictor\n",
    "    dv_regress, residuals, rank, s = np.linalg.lstsq(regress,dv)\n",
    "    dv -= regress.dot(dv_regress)\n",
    "\n",
    "    r,p = sp.stats.pearsonr(iv,dv)\n",
    "\n",
    "    df = len(dv)-2\n",
    "    tval = r * np.sqrt(df/(1-r**2))\n",
    "    p1 = sp.stats.t.sf(np.abs(tval),len(dv)-2)*2\n",
    "    \n",
    "    return r,p,tval,iv,dv"
   ]
  },
  {
   "cell_type": "code",
   "execution_count": 6,
   "metadata": {},
   "outputs": [],
   "source": [
    "def read_design(design_file):\n",
    "        import itertools\n",
    "        import os.path as op\n",
    "        import pandas as pd\n",
    "        if not op.isfile(design_file):\n",
    "            raise IOError('There is no design.con file for %s' % design_file)\n",
    "\n",
    "        # Find number of contrasts and read in accordingly\n",
    "        with open(design_file, 'r') as dfile:\n",
    "            lines = dfile.readlines()\n",
    "            contrasts = sum(1 if 'ContrastName' in line else 0\n",
    "                            for line in lines)\n",
    "            n_lines = sum(1 for line in lines)\n",
    "\n",
    "        df = pd.read_csv(design_file, delimiter='\\t', header=None,\n",
    "                         skipfooter=n_lines - contrasts, engine='python')\n",
    "\n",
    "        cope_labels = list(df[1].str.strip())  # remove spaces\n",
    "\n",
    "        # Here, numeric extensions of labels (e.g. 'positive_003') are removed\n",
    "        labels = []\n",
    "        for c in cope_labels:\n",
    "            parts = [x.strip() for x in c.split('_')]\n",
    "            if parts[-1].isdigit():\n",
    "                label = '_'.join(parts[:-1])\n",
    "                labels.append(label)\n",
    "            else:\n",
    "                labels.append(c)\n",
    "\n",
    "        return labels"
   ]
  },
  {
   "cell_type": "markdown",
   "metadata": {},
   "source": [
    "# Brief Intro to the study\n",
    "\n",
    " In this manuscript, we set out to investigate whether we can **decode selfish versus prosocial motivations from neural patterns** during decision making in economic games. <br>\n",
    " \n",
    " We collected fMRI data from participants while they played 24 rounds of the Ultimatum and Dictator Game and related their behavior during these interactions to patterns of neural activation during decision-making, using machine learning methods. In these games participants have to decide how they want to divide an endowment (20 €) between themselves and another participant.  Because responders can reject the offer in the UG, but not the DG, offers and neural patterns between the games should differ for strategic players, but not prosocial players. Using novel machine-learning methods we found that particularly individual differences in the engagement of cognitive control and theory of mind, which refers to the inference and understanding of another person’s beliefs and intentions, drive decisions to be fair and prosocial.  \n",
    " \n",
    "How we did this will be explained throughout this presentation.\n",
    "  \n",
    "  <img src=\"img/UG_new.png\" alt=\"Drawing\" heigth=\"150\" width=\"1000\">\n",
    " \n",
    " \n",
    "  <img src=\"img/DG.png\" alt=\"Drawing\" heigth=\"150\" width=\"1000\">\n",
    "  \n",
    "\n"
   ]
  },
  {
   "cell_type": "markdown",
   "metadata": {},
   "source": [
    "This is what one trial of the experiment looked like:\n",
    "\n",
    "We only used the first 6s of each trial as this period was not contaminated by possible confounds related to button presses.\n",
    "\n",
    "<img src=\"img/experiment_ug.png\" alt=\"Drawing\" heigth=\"150\" width=\"1000\">"
   ]
  },
  {
   "cell_type": "markdown",
   "metadata": {},
   "source": [
    "# Part 1: Experimental design, pattern estimation, and data representation\n",
    "Before you can do any fancy machine learning analysis (or any other pattern analysis), there are several decisions you need to make and steps to take in (pre)processing and structuring your data. Roughly, there are three steps to take:\n",
    "\n",
    "1. Design your study in a way that's appropriate to answer your question through a pattern analysis; this, of course, needs to be done *before* data acquisition! <br> (The study I'm presenting today was not originally meant for MVPA analysis so may not be the best example e.g. runs, 3 of trials)\n",
    "\n",
    "2. Estimate/extract your patterns from the (functional) MRI data;\n",
    "\n",
    "3. Structure and represent your data appropriately for pattern analyses;\n",
    "\n",
    "While we won't go into all the design factors that make for an *efficient* pattern analysis (see [this article](http://www.sciencedirect.com/science/article/pii/S105381191400768X) for a good review), we will now discuss/demonstrate some design considerations and how they impact the rest of the MVPA pipeline."
   ]
  },
  {
   "cell_type": "markdown",
   "metadata": {},
   "source": [
    "### 1.1. Designs for pattern analysis\n",
    "There are many ways in which you can categorize different types of pattern analyses, but one of the most basic categorizations is in terms of whether analyses are **within-subject** or **between-subject**. The major distinction revolves around whether you want to investigate an (experimental) factor that varies or is manipulated **within** subjects or that varies **across** subjects (i.e. individual differences or experimental between-subject designs)\\*.\n"
   ]
  },
  {
   "cell_type": "markdown",
   "metadata": {},
   "source": [
    "Importantly, these two types of analyses differ in what is regarded as an *instance of a pattern* (also referred to as a *sample*):\n",
    "\n",
    "- in **within**-subject analyses, *each instance of your feature-of-interest represents one pattern* (e.g., each single trial/stimulus/response);\n",
    "- in **between**-subject analyses, *each subject represents one pattern*.\n",
    "\n",
    "This distinction is important, because the choice of type of pattern analysis has major consequences for the design of your experiment and the methods available for pattern extraction. **Throughout this presentaiton, we focus on within-subject analyses**, using a simple two-class classifcation problem where we want to decode whether participants play an UG or DG at a given trial."
   ]
  },
  {
   "cell_type": "markdown",
   "metadata": {},
   "source": [
    "### 1.2. Pattern estimation for within-subject designs\n",
    "There are different ways to estimate your patterns for pattern-based analyses. In our study we want to decode neural patterns associated with playing the UG versus the DG. In that case, you need to to estimate a pattern for each UG and each DG trial. Now, suppose we show a face of an opponent and whether or not he can reject the offer at 9 seconds, we can \"extract\" activity at each voxel for that stimulus in three ways (see figure below):\n",
    "\n",
    "1. Extract just a point estimate of activity at, e.g., 6 seconds post-stimulus (expected HRF peak);\n",
    "2. Average across a range of points;\n",
    "3. Fit a HRF *per stimulus* and extract the corresponding $\\beta$-parameter;\n",
    "\n",
    "As method 3 (fitting a separate HRF per stimulus) has shown to yield the most stable pattern estimates ([Misaki et al., 2010](http://www.sciencedirect.com/science/article/pii/S1053811910007834)), we'll focus on that method in the rest of this section.\n",
    "\n",
    "<img src=\"img/pattern_estimation_UG.png\" alt=\"Drawing\" heigth=\"150\" width=\"1000\">"
   ]
  },
  {
   "cell_type": "markdown",
   "metadata": {},
   "source": [
    "We will extract *patterns* of $\\beta$-estimates by fitting a hemodynamic response function (HRF) per trial using the general linear model (GLM)\\*. In other words, \"trials\" (i.e. instances of your feature-of-interest) in within-subject designs are modelled as separate regressors in a first-level analysis. Below, we included an image of a single-trial design (of the hypothetical faces vs. houses experiment) as created in FSL:\n",
    "\n",
    "<img src=\"img/design_ug.png\" alt=\"Drawing\">\n",
    "\n",
    "----\n",
    "__\\* Note__: This single-trial design is also referred to as a \"Least Squares All\" (LSA) approach. Alternative pattern estimation designs exist, including \"Least Squares Single\" (LSS); the choice for one or the other depends on the trail-by-trial variability and scan-noise ([Adulrahman & Henson, 2017](http://www.sciencedirect.com/science/article/pii/S1053811915010319))."
   ]
  },
  {
   "cell_type": "markdown",
   "metadata": {},
   "source": [
    "As you can see, each trial gets it's own regressor (hence the name \"single-trial design\"). Then, as depicted below the design matrix, a contrast-against-baseline is created for each regressor (trial). After you run a first-level analysis using this design, you'll have whole-brain maps containing statistics values ($\\beta$-values, *t*-values, or *z*-values) for each trial that represent the trial's estimated (whole-brain) pattern. Usually, *t*-values or *z*-values are used instead of $\\beta$-values (cf [Misaki et al., 2010](http://www.sciencedirect.com/science/article/pii/S1053811910007834)).\n",
    "\n",
    "*Importantly, this design thus specifies that for each \"trial\" the activation per voxel is estimated, e.g. each trial gets its own activation map*.\n"
   ]
  },
  {
   "cell_type": "markdown",
   "metadata": {},
   "source": [
    "### 1.4. Visualizing patterns\n",
    "\n",
    "Due to time constraints I will skip the part on how to implement the single trial estimation, but it is a standard procedure and there is lots of documentation online.\n",
    "\n",
    "As a short summary on single trial estimation:\n",
    "- Model each \"trial\" (or more generally, \"instance\") as a separate HRF-convolved regressor;\n",
    "- Additionally define a contrast-matrix in which each trial is contrasted against baseline in order to create *t*-value/*z*-value patterns;\n",
    "\n",
    "Alright, you now know what a single-trial (within-subject) design looks like and what it produces (i.e. single-trial pattern estimates in the form of whole-brain $\\beta$/*t*-stat/*z*-stat maps). Before we go on, we will show what a pattern of a single trial looks like in fslview. This will hopefully give you some more \"intuition\" on what is meant with a single trial pattern. \n",
    "\n",
    "I'm using nilearn's plotting tools (https://nilearn.github.io/plotting/index.html), which are very convenient and easy to use!"
   ]
  },
  {
   "cell_type": "code",
   "execution_count": 14,
   "metadata": {},
   "outputs": [
    {
     "data": {
      "text/plain": [
       "<nilearn.plotting.displays.OrthoSlicer at 0x7fb67386bb00>"
      ]
     },
     "execution_count": 14,
     "metadata": {},
     "output_type": "execute_result"
    },
    {
     "data": {
      "image/png": "[encoded data removed]",
      "text/plain": [
       "<Figure size 525.6x187.2 with 5 Axes>"
      ]
     },
     "metadata": {},
     "output_type": "display_data"
    }
   ],
   "source": [
    "plot_stat_map('/data/sebastian/UG/Neural_data_D2/MVPA/_session_id_run_1_subject_id_UG04/modelest/firstlevel.feat/stats/tstat21.nii.gz',\n",
    "             black_bg=True, bg_img=None, draw_cross=False)"
   ]
  },
  {
   "cell_type": "markdown",
   "metadata": {},
   "source": [
    "<br>\n",
    "What we visualized here is an example of a within-subject pattern of a particular trial (\"sample\"), in which the activated voxels (relative to baseline) are colored red/yellow, and the deactivated voxels (relative to baseline) are colored blue/lightblue. Make sure you understand how this image represents the pattern of a single sample.\n",
    "</div>"
   ]
  },
  {
   "cell_type": "markdown",
   "metadata": {},
   "source": [
    "#### 1.4.1 Data representation\n",
    "In pattern analyses, there is a specific way to 'store' and represent brain patterns: as 2D matrices of shape `N-samples` $\\times$ `K-voxels`. **Important**: often (and confusingly), people refer to voxels as (brain) 'features' in pattern analyses. So in articles people often refer to samples-by-features matrices!\n",
    "\n",
    "Anyway, this is what such a matrix looks like for the hypothetical faces-vs-houses decoding study: \n",
    "<img src=\"img/data_rep_UG.png\" alt=\"Drawing\" heigth=\"100\" width=\"500\">\n",
    "\n",
    "Each row thus represents the voxel pattern of a sample (here: trial)!\n"
   ]
  },
  {
   "cell_type": "code",
   "execution_count": null,
   "metadata": {},
   "outputs": [],
   "source": [
    "## Very useful python package: skbold (developed at UvA)\n",
    "While it's still relatively easy to load in, structure, and preprocess all of the data necessary for pattern-based analyses, there's quite a lot of \"boilerplate code\", especially when you need to loop your analysis across multiple participants. [skbold](skbold.readthedocs.io), a (Python-based) package offers a set of tools to make machine learning analyses of fMRI data easier. As shown in the figure below, skbold offers functionality specific to fMRI-data at different stages of your machine learning pipeline. For example, reading in single-trial estimates and corresponding labels (\"y\") only takes about 5 lines of Python code using skbold. Skbold will also convert 3D nifti images into the 2D representation presented above...\n",
    "\n",
    "<img src=\"img/skbold_scope.png\" alt=\"Drawing\" heigth=\"50\" width=\"1000\">\n"
   ]
  },
  {
   "cell_type": "markdown",
   "metadata": {},
   "source": [
    "## 2. MVPA (Multi Voxel (Variate) Pattern Analysis)"
   ]
  },
  {
   "cell_type": "markdown",
   "metadata": {},
   "source": [
    "\n",
    "\n",
    "### 2.1. An overview of a typical machine learning pipeline\n",
    "\n",
    "Now, we're ready to learn how to actually implement decoding pipelines. Typical pipelines consist of the following elements:\n",
    "\n",
    "* Data preprocessing (scaling)\n",
    "* Data partitioning\n",
    "* Feature selection/extraction\n",
    "* Model fitting (on train-set)\n",
    "* Model cross-validation (on test-set)\n",
    "* Calculate model performance\n",
    "* Statistical analyses of performance\n",
    "\n",
    "I will show you by means of an example how I implemented such an analysis pipline on our UG/DG Dataset"
   ]
  },
  {
   "cell_type": "markdown",
   "metadata": {},
   "source": [
    "### 2.3. Pattern preprocessing (scaling)\n",
    "Before any machine learning analysis, is it advised to preprocess your pattern such that each feature (here: voxels) is on the same scale. This \"feature scaling\" process can be done in various ways, but the most often used method is *standardization*: scaling features such that they have 0 mean and unit variance. Feature scaling is important for many machine learning algorithms in the training process and omitting scaling may yield sub-optimal results.\n",
    "\n",
    "Scikit-learn provides a class, [StandardScaler](http://scikit-learn.org/stable/modules/generated/sklearn.preprocessing.StandardScaler.html), that implements feature standardization. We'll apply it to our entire dataset (`X`) here, but strictly speaking it's best to \"cross-validate\" this preprocessing step.\n"
   ]
  },
  {
   "cell_type": "markdown",
   "metadata": {},
   "source": [
    "#### load data from one participant using skbolds functionalitz:"
   ]
  },
  {
   "cell_type": "code",
   "execution_count": 47,
   "metadata": {},
   "outputs": [],
   "source": [
    "# path for neural data\n",
    "subj='sub19'\n",
    "source=glob(op.join( '/data', 'sebastian', 'UG','Firstlevel_KPbased_Maarten_6s', 'MVPA','*_session*%s*'%subj,'modelest','*.feat'))\n",
    "\n",
    "#specify mask - in this case the ToM mask \n",
    "mask_threshold=0.5\n",
    "base_dir='/data/sebastian/UG/ROI_Analysis/neurosynth/'\n",
    "empathy_map=glob(opj(base_dir,'ToM*.nii.gz'))[0]\n",
    "\n",
    "\n",
    "\n",
    "# load in the neural data\n",
    "mvp = MvpWithin(source=source, read_labels=True,\n",
    "                ref_space='epi', statistic='tstat',\n",
    "                remove_zeros=True,\n",
    "                # selecting the human UG-DG only\n",
    "                remove_contrast = ['3.0','4.0','7.0','8.0','KP'],\n",
    "                mask=empathy_map,\n",
    "                mask_threshold=mask_threshold\n",
    "               )\n",
    "mvp.create()\n",
    "\n",
    "# get the Game Type\n",
    "mvp.y=np.where(mvp.y % 2 == 0, 1, 2)\n",
    "\n",
    "y=mvp.y"
   ]
  },
  {
   "cell_type": "code",
   "execution_count": 25,
   "metadata": {},
   "outputs": [
    {
     "data": {
      "text/plain": [
       "<nilearn.plotting.displays.OrthoSlicer at 0x7fb6734d64a8>"
      ]
     },
     "execution_count": 25,
     "metadata": {},
     "output_type": "execute_result"
    },
    {
     "data": {
      "image/png": "[encoded data removed]",
      "text/plain": [
       "<Figure size 525.6x187.2 with 5 Axes>"
      ]
     },
     "metadata": {},
     "output_type": "display_data"
    }
   ],
   "source": [
    "# in case you were wondering what the ToM mask looks like:\n",
    "plot_stat_map(empathy_map, draw_cross=False)"
   ]
  },
  {
   "cell_type": "code",
   "execution_count": 48,
   "metadata": {},
   "outputs": [
    {
     "data": {
      "text/plain": [
       "array([[ 2.05011153, -0.7293613 ,  0.8389442 , ...,  0.2744233 ,\n",
       "         0.24661392,  1.13299966],\n",
       "       [ 0.06542181,  0.71896809,  0.8420797 , ..., -0.64721376,\n",
       "         0.24576142,  0.5097611 ],\n",
       "       [ 0.59112316,  1.75896454,  0.77552456, ..., -1.05729425,\n",
       "        -1.93498063, -0.42438713],\n",
       "       ...,\n",
       "       [ 0.65456814, -0.46399048,  0.0549469 , ..., -0.78935921,\n",
       "         1.27278626,  0.8001864 ],\n",
       "       [-0.64422023, -0.65250045,  0.83153903, ...,  0.74707812,\n",
       "        -1.17459846, -2.25325155],\n",
       "       [ 0.35850015, -0.50438488, -0.53072774, ...,  0.48814714,\n",
       "        -0.0871783 ,  0.03435417]])"
      ]
     },
     "execution_count": 48,
     "metadata": {},
     "output_type": "execute_result"
    }
   ],
   "source": [
    "# this is our neural data in 2D format each row represents a trial and each column represents a voxel feature\n",
    "mvp.X"
   ]
  },
  {
   "cell_type": "code",
   "execution_count": 49,
   "metadata": {},
   "outputs": [
    {
     "data": {
      "text/plain": [
       "(24, 3405)"
      ]
     },
     "execution_count": 49,
     "metadata": {},
     "output_type": "execute_result"
    }
   ],
   "source": [
    "# here are the dimensions of the neural data extracted from the ToM mask: 24 trial - 2678 voxel\n",
    "# with 3*3*3 voxel resolution the typical brain has approximately 40 000 voxels so using only the ToM network has already significantly reduced the Nr of voxels\n",
    "mvp.X.shape"
   ]
  },
  {
   "cell_type": "code",
   "execution_count": 50,
   "metadata": {},
   "outputs": [],
   "source": [
    "from sklearn.preprocessing import StandardScaler\n",
    "scaler = StandardScaler() # Here we initialize the StandardScaler object\n",
    "scaler.fit(mvp.X)             # Here we \"fit\" the StandardScaler to our entire dataset (i.e. calculates means and stds of each feature)\n",
    "X = scaler.transform(mvp.X)   # And here we transform the dataset using the calculated means/stds"
   ]
  },
  {
   "cell_type": "markdown",
   "metadata": {},
   "source": [
    "Did the scaling procedure work? Let's check that below (by asserting that the mean of each column is 0, and the std of each column is 1):"
   ]
  },
  {
   "cell_type": "code",
   "execution_count": 51,
   "metadata": {},
   "outputs": [
    {
     "name": "stdout",
     "output_type": "stream",
     "text": [
      "Each column (feature) has mean 0!\n",
      "Each column (feature) has std 1!\n"
     ]
    }
   ],
   "source": [
    "means = np.mean(X, axis=0)\n",
    "np.testing.assert_almost_equal(means, np.zeros(X.shape[1]))\n",
    "print(\"Each column (feature) has mean 0!\")\n",
    "stds = X.std(axis=0)\n",
    "np.testing.assert_almost_equal(stds[stds != 0], np.ones((stds != 0).sum()))\n",
    "print(\"Each column (feature) has std 1!\")"
   ]
  },
  {
   "cell_type": "markdown",
   "metadata": {},
   "source": [
    "### 2.4. Model fitting & cross-validation\n",
    "First, I'll show you how to use scikit-learn models and associated functionality. In fact, the most useful functionality of scikit-learn is probably that they made fitting and cross-validating models easy. \n",
    "\n",
    "Note that in the upcoming example, we will fit the model on *all* our samples for the sake of the example. In practice, this is something you would **never** do: you always need to cross-validate your model to a new, independent sample.**\\*** \n",
    "\n",
    "----\n",
    "**\\*** That is, independent with respect to noise: the noise in your *training* sample should not be correlated with the noise in your *test* set)."
   ]
  },
  {
   "cell_type": "markdown",
   "metadata": {},
   "source": [
    "Anyway, let's import a scikit-learn model: the (linear) support vector classifier ([SVC](http://scikit-learn.org/stable/modules/generated/sklearn.svm.SVC.html)), which is one of the most-often used models in fMRI pattern analyses. In scikit-learn, this model is part of the`svm` module.\n",
    "\n",
    "Like most of scikit-learn's functionality, SVC is a *class* (not a *function*!). So, let's initialize an SVC-object! One important argument that this object needs upon initialization is the [\"kernel\"](http://scikit-learn.org/stable/auto_examples/svm/plot_svm_kernels.html) you want the model to have. Basically, the kernel determines how to treat/process your features: linearly (such as `kernel='linear'`), or non-linearly (such as the `kernel='rbf'` or `kernel='poly'` options). Most often a linear kernel is the best option (as non-linear kernels often overfit very quickly).\n",
    "\n",
    "To initialize an SVC-object with a linear kernel, just do as follows:"
   ]
  },
  {
   "cell_type": "code",
   "execution_count": 52,
   "metadata": {},
   "outputs": [],
   "source": [
    "# load SVC class from svm module\n",
    "from sklearn.svm import SVC\n",
    "\n",
    "# clf = CLassiFier\n",
    "clf = SVC(kernel='linear')"
   ]
  },
  {
   "cell_type": "markdown",
   "metadata": {},
   "source": [
    "Now, you need to do two thing to get the prediction for each sample: \n",
    "1. fit, using the method `fit(X, y)`, and predict the class (i.e. 1 = UG or 2 = DG) for each class using the method `predict(X)`. Basically, in the `fit` method, the parameters of the model (i.e. $\\beta$) are estimated. \n",
    "2. Then, in the `predict` method, the estimated parameters are used to generate a prediction for each sample (i.e. 1 or 2). \n",
    "\n",
    "Let's first look at the `fit` method. As you can see, the `fit(X, y)` method needs two parameters: X (a samples-by-features matrix) and y (a vector of length n-samples). Let's do that for our data: "
   ]
  },
  {
   "cell_type": "code",
   "execution_count": 53,
   "metadata": {},
   "outputs": [
    {
     "name": "stdout",
     "output_type": "stream",
     "text": [
      "Fitting SVC ...\n",
      " done.\n"
     ]
    }
   ],
   "source": [
    "print('Fitting SVC ...')\n",
    "clf.fit(X, y)\n",
    "print(' done.')"
   ]
  },
  {
   "cell_type": "markdown",
   "metadata": {},
   "source": [
    "To get the prediction of any sample, just call the `predict(X)` method of the model, which returns the predictions as an array:"
   ]
  },
  {
   "cell_type": "code",
   "execution_count": 54,
   "metadata": {},
   "outputs": [
    {
     "name": "stdout",
     "output_type": "stream",
     "text": [
      "The predictions for my samples are:\n",
      " [1, 1, 1, 1, 1, 1, 2, 2, 2, 2, 2, 2, 1, 1, 1, 1, 1, 1, 2, 2, 2, 2, 2, 2]\n"
     ]
    }
   ],
   "source": [
    "y_hat = clf.predict(X)\n",
    "print(\"The predictions for my samples are:\\n %r\" % y_hat.tolist())"
   ]
  },
  {
   "cell_type": "markdown",
   "metadata": {},
   "source": [
    "### 2.5. Model evaluation\n",
    "A logical next step is to assess how good the model was in predicting the class of the samples. A straightforward metric to summarize performance is *accuracy* **\\*** which can be defined as: \n",
    "\n",
    "\\begin{align}\n",
    "accuracy = \\frac{number\\ of\\ correct\\ predictions}{number\\ of\\ predictions}\n",
    "\\end{align}\n",
    "\n",
    "---------------\n",
    "**\\*** There are waaaay [more metrics to summarize model performance](http://machinelearningmastery.com/classification-accuracy-is-not-enough-more-performance-measures-you-can-use/) for classification models, such as precision, recall, F1-score, and ROC-AUC. These metrics are more appropriate than accuracy when you have *imbalanced classes*, i.e. more samples in one class (e.g. negative images) than in another class (e.g. positive images). Fortunately, in this data set UG and DG trials are balanced so the simple accuracy metric will do."
   ]
  },
  {
   "cell_type": "code",
   "execution_count": 55,
   "metadata": {},
   "outputs": [
    {
     "name": "stdout",
     "output_type": "stream",
     "text": [
      "1.0\n"
     ]
    }
   ],
   "source": [
    "accuracy=(y_hat==y).sum()/len(y)\n",
    "print(accuracy)"
   ]
  },
  {
   "cell_type": "markdown",
   "metadata": {},
   "source": [
    "### 2.6 Cross validation"
   ]
  },
  {
   "cell_type": "markdown",
   "metadata": {},
   "source": [
    "The accuracy was 1.0 - a perfect score! \"Awesome! Nature Neuroscience material!\", you might think. But, as is almost always the case: if it seems too good to be true, it probably *is* indeed too good to be true.\n",
    "\n",
    "So, what is the issue here? \n",
    "\n",
    "Well, we didn't cross-validate the model! We fitted it on all the samples in the mvp-object and predicted the *same* samples, which leads to optimistic estimate of model performance. Such optimistic estimates in uncross-validated models are especially likely when there are many more features (here: voxels) than samples (here: trials). In other words, we are probably *overfitting* the model here.\n",
    "\n",
    "Thus, let's check what happens if we actually cross-validate the model. To do so, we need to partition the data into a train- and test-set. \n",
    "\n",
    "Now, we can finally use some of scikit-learn's functionality. We are going to use the [StratifiedKFold](http://scikit-learn.org/stable/modules/generated/sklearn.model_selection.StratifiedKFold.html) class from scikit-learn's model_selection module. Click the highlighted link above and read through the manual to see how it works.\n",
    "\n",
    "Importantly, if you're dealing with a classification analysis, always use *Stratified*KFold (instead of the regular [KFold](http://scikit-learn.org/stable/modules/generated/sklearn.model_selection.KFold.html)), because this version makes sure that each fold contains the same proportion of the different classes (here: 1 and 2). This is particularly important if you have imbalanced classes. \n",
    "\n",
    "Let's initialize a StratifiedKFold object with 6 folds:"
   ]
  },
  {
   "cell_type": "code",
   "execution_count": 84,
   "metadata": {},
   "outputs": [],
   "source": [
    "# scikit-learn is imported as 'sklearn'\n",
    "from sklearn.model_selection import StratifiedKFold\n",
    "\n",
    "# They call folds 'splits' in scikit-learn\n",
    "skf = StratifiedKFold(n_splits=6)"
   ]
  },
  {
   "cell_type": "code",
   "execution_count": 83,
   "metadata": {},
   "outputs": [
    {
     "name": "stdout",
     "output_type": "stream",
     "text": [
      "Shape X_train: (20, 3405)\n",
      "Shape y_train: (20,)\n",
      "Shape X_test: (4, 3405)\n",
      "Shape y_test: (4,)\n",
      "Shape X_train: (20, 3405)\n",
      "Shape y_train: (20,)\n",
      "Shape X_test: (4, 3405)\n",
      "Shape y_test: (4,)\n",
      "Shape X_train: (20, 3405)\n",
      "Shape y_train: (20,)\n",
      "Shape X_test: (4, 3405)\n",
      "Shape y_test: (4,)\n",
      "Shape X_train: (20, 3405)\n",
      "Shape y_train: (20,)\n",
      "Shape X_test: (4, 3405)\n",
      "Shape y_test: (4,)\n",
      "Shape X_train: (20, 3405)\n",
      "Shape y_train: (20,)\n",
      "Shape X_test: (4, 3405)\n",
      "Shape y_test: (4,)\n",
      "Shape X_train: (20, 3405)\n",
      "Shape y_train: (20,)\n",
      "Shape X_test: (4, 3405)\n",
      "Shape y_test: (4,)\n",
      "Average performance across folds: 0.7083333333333334\n"
     ]
    }
   ],
   "source": [
    "\n",
    "# run split() again to generate folds\n",
    "folds = skf.split(X, y)\n",
    "\n",
    "performance = np.zeros(skf.n_splits)\n",
    "\n",
    "for i, (train_idx, test_idx) in enumerate(folds): # here we loop over the  folds and create indices for each fold\n",
    "    \n",
    "    # here we index the neural data into a train and test set - different samples (rows) are used in each fold\n",
    "    X_train = X[train_idx,:] \n",
    "    y_train = y[train_idx]\n",
    "\n",
    "    # here we index the dependent variable (UG vs DG) into a train and test set - different samples (rows) are used in each fold\n",
    "    X_test =  X[test_idx,:]\n",
    "    y_test =  y[test_idx]\n",
    "    \n",
    "    print(\"Shape X_train: %r\" % (X_train.shape,))\n",
    "    print(\"Shape y_train: %r\" % (y_train.shape,))\n",
    "    print(\"Shape X_test: %r\" % (X_test.shape,))\n",
    "    print(\"Shape y_test: %r\" % (y_test.shape,))\n",
    "    \n",
    "    # fit the classifer on train data\n",
    "    clf.fit(X_train,y_train)\n",
    "    \n",
    "    # predict on the test set\n",
    "    y_hat_test = clf.predict(X_test)\n",
    "    \n",
    "    # calculate the performance for this fold using simple accuracy\n",
    "    this_performance = accuracy_score(y_test, y_hat_test)\n",
    "\n",
    "    \n",
    "    performance[i] = this_performance\n",
    "    \n",
    "# average performance across folds\n",
    "avperf= np.mean(performance)\n",
    "\n",
    "print(\"Average performance across folds: %r\" % (avperf))"
   ]
  },
  {
   "cell_type": "markdown",
   "metadata": {},
   "source": [
    "## 2.8. Feature selection/extraction\n",
    "While a complete discussion on (causes of) the phenomenon of \"overfitting\" is definitely beyond the scope of this presentation, it is generally agreed upon that a small sample/feature-ratio will likely lead to overfitting of your models (optimistic performance estimates on train-set). A small sample/feature ratio, unfortunately, is very common in machine learning analyses of neuroimaging (and especially fMRI) data, as the number of features (voxels, MEG sensors) often largely outnumber the amount of samples (trials or subjects).\n",
    "\n",
    "Given that this small sample/feature ratio (usually) leads to overfitting, it follows that reducing the amount of features often has a beneficial effect on cross-validated performance estimates. (Or alternatively, increasing your number of samples, but this is not always feasible due to practical and financial reasons...)\n",
    "\n",
    "Feature reduction can be achieved in two principled ways:\n",
    "\n",
    "* feature extraction: transform your features into a set of lower-dimensional components;\n",
    "* feature selection: select a subset of features\n",
    "\n",
    "Examples of feature extraction are PCA (i.e. transform voxels to orthogonal components) and averaging features within brain regions from an atlas.\n",
    "\n",
    "Examples of feature selection are ROI-analysis (i.e. restricting your patterns to a specific ROI in the brain) and \"univariate feature selection\" (UFS). This latter method is an often-used data-driven method to select features based upon their univariate difference, which is basically like using a traditional whole-brain mass-univariate analysis to select potentially useful features!\n",
    "\n",
    "---\n",
    "In our UG paper we used a combination of both feature selection methods:\n",
    "\n",
    "We first used a ToM mask to narrow down features to voxels from potentially relevant regions and that did data driven feature selection on the remaining voxels within the cross validation."
   ]
  },
  {
   "cell_type": "markdown",
   "metadata": {},
   "source": [
    "### 2.8.1. (Univariate) feature selection\n",
    "As an example of feature selection, let's take a closer look at how UFS can be implemented using scikit-learn. Basically, it follows the following structure:\n",
    "\n",
    "```\n",
    "transformer = Selector(score_func=ufs_function, other_args)\n",
    "```\n",
    "\n",
    "Here, the `score_func` parameter takes a function that implements a univariate statistical test (like an [f-test](http://scikit-learn.org/stable/modules/generated/sklearn.feature_selection.f_classif.html#sklearn.feature_selection.f_classif) or a [chi-square test](http://scikit-learn.org/stable/modules/generated/sklearn.feature_selection.f_classif.html#sklearn.feature_selection.chi2)). The `Selector` class determines how to select the subset of features based on the result of the `score_func`. \n",
    "\n",
    "For example, the [SelectKBest](http://scikit-learn.org/stable/modules/generated/sklearn.feature_selection.SelectKBest.html#sklearn.feature_selection.SelectKBest) selector selects the best `K` features based on their scores from the statistical test. For example, the following transformer would select the best 2000 features based on their F-score ( univariate comparison UG vs. DG):"
   ]
  },
  {
   "cell_type": "code",
   "execution_count": 90,
   "metadata": {},
   "outputs": [],
   "source": [
    "from sklearn.feature_selection import SelectKBest, f_classif\n",
    "\n",
    "# f_classif is a scikit-learn specific implementation of the F-test\n",
    "select2000best = SelectKBest(score_func=f_classif, k=2000)"
   ]
  },
  {
   "cell_type": "code",
   "execution_count": 100,
   "metadata": {},
   "outputs": [
    {
     "name": "stdout",
     "output_type": "stream",
     "text": [
      "3405\n",
      "3405\n",
      "Shape of X before transform: (24, 3405) ...\n",
      "... and shape of X after transform: (24, 2000).\n"
     ]
    }
   ],
   "source": [
    "# Fit the transformer ...\n",
    "select2000best.fit(X, y)\n",
    "\n",
    "# ... which calculates the following attributes (.scores_ and .pvalues_)\n",
    "# Let's check them out\n",
    "scores = select2000best.scores_\n",
    "pvalues =  select2000best.pvalues_\n",
    "\n",
    "# As you can see, each voxel gets its own score (in this case: an F-score)\n",
    "print(scores.size)\n",
    "\n",
    "# and its own p-value:\n",
    "print(pvalues.size)\n",
    "\n",
    "print(\"Shape of X before transform: %r ...\" % (X.shape,))\n",
    "X_after_ufs = select2000best.transform(X)\n",
    "\n",
    "print(\"... and shape of X after transform: %r.\" % (X_after_ufs.shape,))"
   ]
  },
  {
   "cell_type": "markdown",
   "metadata": {},
   "source": [
    "As you can see, the transformer correctly selected a subset of 2000 voxels from our X matrix! Now, both selectors were fit on the entire dataset, which is often course not how it should be done: because they use information from the labels (`y`), this step should be cross-validated. Thus, what you have to do is:\n",
    "\n",
    "* fit your transformer on the train-set;\n",
    "* transform your train-set;\n",
    "* transform your test-set;\n",
    "* (fit your model on the transformed train-set;)\n",
    "* (cross-validate to the transformed test-set;)\n",
    "\n",
    "We summarized the entire pipeline, including data partitioning (indexing), feature selection (transformation), and model fitting and their corresponding cross-validation steps in the image below:\n",
    "\n",
    "\n",
    "<img src='img/pipeline_ug.png'>"
   ]
  },
  {
   "cell_type": "markdown",
   "metadata": {},
   "source": [
    "## Putting it all together in one final pipeline\n",
    "\n",
    "The pipeline illustrated above has been implemented in the code below:"
   ]
  },
  {
   "cell_type": "code",
   "execution_count": 94,
   "metadata": {},
   "outputs": [
    {
     "name": "stdout",
     "output_type": "stream",
     "text": [
      "Shape X_train: (20, 3405)\n",
      "Shape y_train: (20,)\n",
      "Shape X_test: (4, 3405)\n",
      "Shape y_test: (4,)\n",
      "Shape X_train: (20, 3405)\n",
      "Shape y_train: (20,)\n",
      "Shape X_test: (4, 3405)\n",
      "Shape y_test: (4,)\n",
      "Shape X_train: (20, 3405)\n",
      "Shape y_train: (20,)\n",
      "Shape X_test: (4, 3405)\n",
      "Shape y_test: (4,)\n",
      "Shape X_train: (20, 3405)\n",
      "Shape y_train: (20,)\n",
      "Shape X_test: (4, 3405)\n",
      "Shape y_test: (4,)\n",
      "Shape X_train: (20, 3405)\n",
      "Shape y_train: (20,)\n",
      "Shape X_test: (4, 3405)\n",
      "Shape y_test: (4,)\n",
      "Shape X_train: (20, 3405)\n",
      "Shape y_train: (20,)\n",
      "Shape X_test: (4, 3405)\n",
      "Shape y_test: (4,)\n",
      "Average performance across folds: 0.75\n"
     ]
    }
   ],
   "source": [
    "from skbold.postproc import MvpResults\n",
    "from sklearn.metrics import accuracy_score, f1_score\n",
    "\n",
    "mvpr = MvpResults(mvp=mvp, n_iter=6, feature_scoring='forward', confmat=True,\n",
    "                  accuracy=accuracy_score, f1=f1_score)\n",
    "\n",
    "pipe_line = Pipeline([('scaler', StandardScaler()),\n",
    "                      ('ufs', SelectKBest(score_func=f_classif, k=1000)),\n",
    "                      ('clf', SVC(kernel='linear'))])\n",
    "\n",
    "\n",
    "# run split() again to generate folds\n",
    "folds = skf.split(X, y)\n",
    "\n",
    "performance = np.zeros(skf.n_splits)\n",
    "\n",
    "for i, (train_idx, test_idx) in enumerate(folds): # here we loop over the  folds and create indices for each fold\n",
    "    \n",
    "    # here we index the neural data into a train and test set - different samples (rows) are used in each fold\n",
    "    X_train = X[train_idx,:] \n",
    "    y_train = y[train_idx]\n",
    "\n",
    "    # here we index the dependent variable (UG vs DG) into a train and test set - different samples (rows) are used in each fold\n",
    "    X_test =  X[test_idx,:]\n",
    "    y_test =  y[test_idx]\n",
    "    \n",
    "    print(\"Shape X_train: %r\" % (X_train.shape,))\n",
    "    print(\"Shape y_train: %r\" % (y_train.shape,))\n",
    "    print(\"Shape X_test: %r\" % (X_test.shape,))\n",
    "    print(\"Shape y_test: %r\" % (y_test.shape,))\n",
    "    \n",
    "    # here we implement the pipeline (including scaling, feature selection and classifier) on the training set\n",
    "    pipe_line.fit(X_train, y_train)\n",
    "    \n",
    "    # and use it to make predictions from the test set\n",
    "    pred = pipe_line.predict(X_test)\n",
    "    \n",
    "    # calculate the performance for this fold using simple accuracy\n",
    "    this_performance = accuracy_score(y_test, y_hat_test)\n",
    "\n",
    "    \n",
    "    performance[i] = this_performance\n",
    "    mvpr.update(test_idx=test_idx, y_pred=y_hat_test, pipeline=pipe_line)\n",
    "# average performance across folds\n",
    "avperf= np.mean(performance)\n",
    "\n",
    "print(\"Average performance across folds: %r\" % (avperf))"
   ]
  },
  {
   "cell_type": "markdown",
   "metadata": {},
   "source": [
    "### Feature visualization\n",
    "using functionality from the skbold package we can here visualize the voxel obtained during feature selection, that were used for the decoding."
   ]
  },
  {
   "cell_type": "code",
   "execution_count": 106,
   "metadata": {},
   "outputs": [
    {
     "data": {
      "image/png": "[encoded data removed]",
      "text/plain": [
       "<Figure size 1440x360 with 8 Axes>"
      ]
     },
     "metadata": {
      "needs_background": "light"
     },
     "output_type": "display_data"
    }
   ],
   "source": [
    "import nibabel as nib\n",
    "import numpy as np\n",
    "import matplotlib.pyplot as plt\n",
    "%matplotlib inline\n",
    "\n",
    "plt.figure(figsize=(20, 5))\n",
    "scores_3d = feature_scores.get_data() # get the feature scores\n",
    "background='/data/sebastian/UG/Neural_data_D1/MVPA/_session_id_session3_subject_id_sub19/modelest/firstlevel.feat/reg/example_func.nii.gz'\n",
    "background =background\n",
    "background = nib.load(background).get_data()\n",
    "\n",
    "for i, slce in enumerate(np.arange(15, 55, 5)):\n",
    "    plt.subplot(2, 4, (i+1))\n",
    "    plt.title('X = %i' % slce, fontsize=20)\n",
    "    to_plot = np.ma.masked_where(scores_3d[slce, :, :] == 0, scores_3d[slce, :, :])\n",
    "    plt.imshow(background[slce, :, :].T, origin='lower', cmap='gray')\n",
    "    plt.imshow(to_plot.T, origin='lower', cmap='hot')\n",
    "    plt.axis('off')\n",
    "plt.tight_layout()\n",
    "plt.show()"
   ]
  },
  {
   "cell_type": "markdown",
   "metadata": {},
   "source": [
    "# Code example of decoding analysis on the 1000 most important voxels from the ToM network"
   ]
  },
  {
   "cell_type": "markdown",
   "metadata": {},
   "source": [
    "#### set up pipline "
   ]
  },
  {
   "cell_type": "code",
   "execution_count": 107,
   "metadata": {},
   "outputs": [],
   "source": [
    "# pipeline with standardization, feature selection (selection 1000 best voxels) and classification using SVC using sklearn's pipeline function\n",
    "\n",
    "pipe_line = Pipeline([('scaler', StandardScaler()),\n",
    "                      ('ufs', SelectKBest(score_func=f_classif, k=1000)),\n",
    "                      ('clf', SVC(kernel='linear'))])"
   ]
  },
  {
   "cell_type": "markdown",
   "metadata": {},
   "source": [
    "#### run analysis on all subjects"
   ]
  },
  {
   "cell_type": "code",
   "execution_count": 108,
   "metadata": {},
   "outputs": [],
   "source": [
    "# define subjects\n",
    "subject_list=['sub01','sub02','sub03','sub04','sub05','sub06','sub07','sub08','sub09','sub10','sub11',\n",
    "             'sub12','sub13','sub14','sub15','sub16','sub17','sub18','sub19']\n",
    "\n",
    "\n",
    "# define paths\n",
    "roi_dir='/data/sebastian/UG/ROI_Analysis/'\n",
    "\n",
    "feat_dirs = glob(op.join('..', 'data', 'pi*', 'wm.feat'))\n",
    "\n",
    "# set up cross validation\n",
    "n_folds = 6\n",
    "skf = StratifiedKFold(n_splits=n_folds)\n",
    "\n",
    "#specify mask - in this case the ToM mask \n",
    "mask_threshold=0.5\n",
    "base_dir='/data/sebastian/UG/ROI_Analysis/neurosynth/'\n",
    "empathy_map=glob(opj(base_dir,'ToM*.nii.gz'))[0]\n",
    "\n",
    "\n",
    "\n",
    "# Keep track of all performance estimates - preallocate space for the performace estimates to reduce computation time\n",
    "all_performance = np.zeros(len(subject_list))\n",
    "all_dummy_performance = np.zeros(len(subject_list))\n",
    "\n",
    "roi_name='ToM_UFS_2000'\n",
    "\n",
    "\n",
    "# loop over subjects\n",
    "for i_sub,subj in enumerate(subject_list):\n",
    "\n",
    "    # path for neural data\n",
    "    source=glob(op.join( '/data', 'sebastian', 'UG','Firstlevel_KPbased_Maarten_6s', 'MVPA','*_session*%s*'%subj,'modelest','*.feat'))\n",
    "\n",
    "    # load in the neural data\n",
    "    mvp = MvpWithin(source=source, read_labels=True,\n",
    "                    ref_space='epi', statistic='tstat',\n",
    "                    remove_zeros=True,\n",
    "                    # selecting the human UG-DG only\n",
    "                    remove_contrast = ['3.0','4.0','7.0','8.0','KP'],\n",
    "                    mask=empathy_map,\n",
    "                    mask_threshold=mask_threshold\n",
    "                   )\n",
    "    mvp.create()\n",
    "    \n",
    "    # get the Game Type\n",
    "    mvp.y=np.where(mvp.y % 2 == 0, 1, 2)\n",
    "    \n",
    "\n",
    "    performance_this_participant = np.zeros(skf.n_splits)\n",
    "    performance_dummy_this_participant = np.zeros(skf.n_splits)\n",
    "    \n",
    "    # Loop for cross validate\n",
    "    for i_fold, (train_idx, test_idx) in enumerate(skf.split(mvp.X, mvp.y)):\n",
    "\n",
    "        X_train, X_test = mvp.X[train_idx], mvp.X[test_idx] # index train and test set for predictor\n",
    "        y_train, y_test = mvp.y[train_idx], mvp.y[test_idx] # index train and test set for dependent variable\n",
    "\n",
    "\n",
    "        pipe_line.fit(X_train, y_train) # implement the piple defined above\n",
    "        pred = pipe_line.predict(X_test) # use svm to predict on test set\n",
    "        performance = accuracy_score(y_test,pred) # calculate the accuracy\n",
    "        performance_this_participant[i_fold] = performance # save the performance measure\n",
    "    mean_performance_this_participant = performance_this_participant.mean()\n",
    "\n",
    "    all_performance[i_sub] = mean_performance_this_participant\n",
    "    pd.DataFrame({'performance' : all_performance,\n",
    "                            'subjects' : subject_list},\n",
    "                            columns=['performance','subjects']).to_csv(opj(roi_dir,roi_name+'_M.csv'))\n",
    "\n",
    "\n"
   ]
  },
  {
   "cell_type": "markdown",
   "metadata": {},
   "source": [
    "#### load behavioral data"
   ]
  },
  {
   "cell_type": "code",
   "execution_count": null,
   "metadata": {},
   "outputs": [],
   "source": [
    "# D1\n",
    "diffs=pd.read_csv('/data/sebastian/UG/offersize/DifferenceOffers.csv')\n",
    "diffs_s=diffs.sort_values(\"subjects\")\n",
    "diffs_s['type']=1\n",
    "\n",
    "#D2\n",
    "diffsW=pd.read_csv('/data/sebastian/UG/offersize/Diffs_W.csv')\n",
    "diffsW.columns=['Diff_OfferAll_UG_DG', 'Diff_OfferAll_UG_DG_Human',\n",
    "    'Diff_OfferAll_UG_DG_PC', 'Mean_OfferAll_UG_All', 'Mean_OfferAll_DG_All',\n",
    "       'Mean_OfferAll_UG_Human', 'Mean_OfferAll_DG_Human', 'Mean_OfferAll_UG_PC', 'Mean_OfferAll_DG_PC', 'subjects']\n",
    "diffsW['type']=2\n",
    "# combine the datasets\n",
    "frames=[diffsW,diffs_s]\n",
    "common_cols = list(set.intersection(*(set(df.columns) for df in frames)))\n",
    "Diffs_All=pd.concat([df[common_cols] for df in frames], ignore_index=True)\n",
    "Diffs_All['Participant']=range(1,Diffs_All.shape[0]+1)\n",
    "Diffs_All['fair']=np.where(Diffs_All['Diff_OfferAll_UG_DG']<Diffs_All['Diff_OfferAll_UG_DG'].median(),'fair','Unfair')"
   ]
  },
  {
   "cell_type": "markdown",
   "metadata": {},
   "source": [
    "#### Plot showing the difference in offers between games across participants\n",
    "*This plot shows the difference in offers between games across participants*"
   ]
  },
  {
   "cell_type": "code",
   "execution_count": 17,
   "metadata": {},
   "outputs": [
    {
     "data": {
      "image/png": "[encoded data removed]",
      "text/plain": [
       "<Figure size 432x288 with 1 Axes>"
      ]
     },
     "metadata": {
      "needs_background": "light"
     },
     "output_type": "display_data"
    }
   ],
   "source": [
    "import matplotlib.pyplot as plt\n",
    "\n",
    "colors = {1: 'r', 2: 'b', 3: 'g'}\n",
    "\n",
    "datwo=Diffs_All.copy()\n",
    "datwo['Diff_OfferAll_UG_DG_Human']*=2\n",
    "DAs=datwo.sort_values(by='Diff_OfferAll_UG_DG_Human',ascending=True)[['subjects','Diff_OfferAll_UG_DG_Human','type']]\n",
    "DAs['Diff_OfferAll_UG_DG_Human'].plot(kind='bar', color=[colors[i] for i in DAs['type']])\n",
    "\n",
    "L=plt.legend()\n",
    "\n",
    "frame1 = plt.gca()\n",
    "plt.title('Individual differences in Offers')#, fontsize=20)\n",
    "plt.xlabel('Subjects')#, fontsize=18)\n",
    "plt.ylabel('Difference in Offer')#, fontsize=18)\n",
    "frame1.legend_.remove()\n",
    "NA = mpatches.Patch(color='blue', label='Study 2')\n",
    "EU = mpatches.Patch(color='red', label='Study 1')\n",
    "plt.tick_params(\n",
    "    axis='x',          # changes apply to the x-axis\n",
    "    which='both',      # both major and minor ticks are affected\n",
    "    bottom=False,      # ticks along the bottom edge are off\n",
    "    top=False,         # ticks along the top edge are off\n",
    "    labelbottom=False)\n",
    "plt.legend(handles=[NA,EU], loc=2, prop={'size': 12})\n",
    "plt.savefig('/data/sebastian/UG/manuscript/figures/Individual-differences-in-offers2.png')\n",
    "plt.show()\n"
   ]
  },
  {
   "cell_type": "markdown",
   "metadata": {},
   "source": [
    "### Correlate Classifcation Accuracy with individual differences in difference in Offers"
   ]
  },
  {
   "cell_type": "code",
   "execution_count": 112,
   "metadata": {},
   "outputs": [
    {
     "name": "stdout",
     "output_type": "stream",
     "text": [
      "ToM_UFS_2000\n",
      "partial correlation pearson: (0.36913675002923124, 0.040991204665960145)\n"
     ]
    },
    {
     "data": {
      "image/png": "[encoded data removed]",
      "text/plain": [
       "<Figure size 432x288 with 1 Axes>"
      ]
     },
     "metadata": {
      "needs_background": "light"
     },
     "output_type": "display_data"
    }
   ],
   "source": [
    "\n",
    "\n",
    "# ROIs can be found in the neural analysis folder\n",
    "roi_dir='/data/sebastian/UG/ROI_Analysis/'\n",
    "roi_name='ToM_UFS_2000'\n",
    "\n",
    "roi_list=[]\n",
    "print(roi_name)\n",
    "roi_list.append(roi_name)\n",
    "w=pd.read_csv(opj(roi_dir,roi_name+'_W.csv'))\n",
    "m=pd.read_csv(opj(roi_dir,roi_name+'_M.csv'))\n",
    "\n",
    "#join D1 class. acc. and D1 behavior\n",
    "joined=pd.merge(diffs_s, m, on='subjects')\n",
    "\n",
    "#join D2 class. acc. and D2 behavior\n",
    "joinedW=pd.merge(diffsW, w,on='subjects')\n",
    "\n",
    "# combine the two datasets\n",
    "joinedAll=joined.append(joinedW)\n",
    "covariate=joinedAll['type']-1\n",
    "behav=joinedAll['Diff_OfferAll_UG_DG']\n",
    "performance=joinedAll['performance']\n",
    "\n",
    "# compute partial correlations\n",
    "iv=performance\n",
    "dv=behav\n",
    "# add intercept to covariate\n",
    "regress = np.vstack([covariate,np.ones(len(covariate))]).T\n",
    "\n",
    "#perform a normal linear least-squares regression with X as the target and Z as the predictor\n",
    "iv_regress, residuals, rank, s = np.linalg.lstsq(regress,iv)\n",
    "\n",
    "#calculate the residuals in Step #1\n",
    "iv -= regress.dot(iv_regress)\n",
    "\n",
    "#perform a normal linear least-squares regression with Y as the target and Z as the predictor\n",
    "dv_regress, residuals, rank, s = np.linalg.lstsq(regress,dv)\n",
    "dv -= regress.dot(dv_regress)\n",
    "\n",
    "print('partial correlation pearson: ' + str(pearsonr(iv,dv)))\n",
    "\n",
    "# plot correlation \n",
    "sns.regplot(iv,dv, color='green')\n",
    "plt.ylabel('Difference in Offer', fontsize=18)\n",
    "plt.xlabel('SVM Classification Accuracy', fontsize=18)\n",
    "plt.title('Theory of Mind', fontsize=20)\n",
    "\n",
    "plt.show()\n"
   ]
  }
 ],
 "metadata": {
  "anaconda-cloud": {},
  "kernelspec": {
   "display_name": "sebastian",
   "language": "python",
   "name": "sebastian"
  },
  "language_info": {
   "codemirror_mode": {
    "name": "ipython",
    "version": 3
   },
   "file_extension": ".py",
   "mimetype": "text/x-python",
   "name": "python",
   "nbconvert_exporter": "python",
   "pygments_lexer": "ipython3",
   "version": "3.6.9"
  }
 },
 "nbformat": 4,
 "nbformat_minor": 4
}
